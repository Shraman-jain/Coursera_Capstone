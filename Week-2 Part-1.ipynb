{
 "cells": [
  {
   "cell_type": "markdown",
   "metadata": {},
   "source": [
    "# Capstone Project - Car accident severity"
   ]
  },
  {
   "cell_type": "markdown",
   "metadata": {},
   "source": [
    "### Applied Data Science Capstone by IBM/Coursera"
   ]
  },
  {
   "cell_type": "markdown",
   "metadata": {},
   "source": [
    "## Table of contents\n",
    "            1.Introduction: Business Problem\n",
    "            2.Data"
   ]
  },
  {
   "cell_type": "markdown",
   "metadata": {},
   "source": [
    "## Introduction: Business Problem and Background ¶"
   ]
  },
  {
   "cell_type": "markdown",
   "metadata": {},
   "source": [
    "The Seattle government is going to prevent avoidable car accidents by employing methods that alert drivers, health system, and police to remind them to be more careful in critical situations. In most cases, not paying enough attention during driving, abusing drugs and alcohol or driving at very high speed are the main causes of occurring accidents that can be prevented by enacting harsher regulations.\n",
    "\n",
    "Besides the aforementioned reasons, weather, visibility, or road conditions are the major uncontrollable factors that can be prevented by revealing hidden patterns in the data and announcing warning to the local government, police and drivers on the targeted roads.\n",
    "\n",
    "The target audience of the project is local Seattle government, police, rescue groups, and last but not least, car insurance institutes. The model and its results are going to provide some advice for the target audience to make insightful decisions for reducing the number of accidents and injuries for the city."
   ]
  },
  {
   "cell_type": "markdown",
   "metadata": {},
   "source": [
    "## Data"
   ]
  },
  {
   "cell_type": "markdown",
   "metadata": {},
   "source": [
    "We chose the unbalanced dataset provided by the Seattle Department of Transportation Traffic Management Division with 194673 rows (accidents) and 37 columns (features) where each accident is given a severity code. It covers accidents from January 2004 to May 2020. Some of the features in this dataset include and are not limited to Severity code, Location/Address of accident, Weather condition at the incident site, Driver state (whether under influence or not), collision type. Hence we think its a good generalized dataset which will help us in creating an accurate predictive model. The unbalance with respect to the severity code in the dataset is as follows.\n",
    "\n",
    "SEVERITY CODE Count\n",
    "\n",
    "1 — 136485\n",
    "\n",
    "2 — 58188\n",
    "\n",
    "Other important variables include:\n",
    "\n",
    "        1.ADDRTYPE: Collision address type: Alley, Block, Intersection\n",
    "        2.LOCATION: Description of the general location of the collision\n",
    "        3.PERSONCOUNT: The total number of people involved in the collision helps identifyseverity level\n",
    "        4.PEDCOUNT: The number of pedestrians involved in the collision helps identify severity level\n",
    "        5.PEDCYLCOUNT: The number of bicycles involved in the collision helps identify severity level\n",
    "        6.VEHCOUNT: The number of vehicles involved in the collision identify severity level\n",
    "        7.JUNCTIONTYPE: Category of junction at which collision took place helps identify where most collisions occur\n",
    "        8.WEATHER: A description of the weather conditions during the time of the collision\n",
    "        9.ROADCOND: The condition of the road during the collision\n",
    "        10.LIGHTCOND: The light conditions during the collision\n",
    "        11.SPEEDING: Whether or not speeding was a factor in the collision (Y/N)\n",
    "        12.SEGLANEKEY: A key for the lane segment in which the collision occurred\n",
    "        13.CROSSWALKKEY: A key for the crosswalk at which the collision occurred\n",
    "        14.HITPARKEDCAR: Whether or not the collision involved hitting a parked car\n"
   ]
  },
  {
   "cell_type": "code",
   "execution_count": null,
   "metadata": {},
   "outputs": [],
   "source": []
  }
 ],
 "metadata": {
  "kernelspec": {
   "display_name": "Python 3",
   "language": "python",
   "name": "python3"
  },
  "language_info": {
   "codemirror_mode": {
    "name": "ipython",
    "version": 3
   },
   "file_extension": ".py",
   "mimetype": "text/x-python",
   "name": "python",
   "nbconvert_exporter": "python",
   "pygments_lexer": "ipython3",
   "version": "3.7.4"
  }
 },
 "nbformat": 4,
 "nbformat_minor": 2
}
